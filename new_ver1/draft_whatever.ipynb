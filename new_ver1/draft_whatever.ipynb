{
 "cells": [
  {
   "cell_type": "code",
   "execution_count": 2,
   "metadata": {},
   "outputs": [
    {
     "name": "stdout",
     "output_type": "stream",
     "text": [
      "tensor([[0.0000, 0.1004, 0.1867, 0.2754, 0.3599, 0.5087, 0.6180, 0.7438, 0.8186,\n",
      "         0.8992, 1.0000],\n",
      "        [0.0000, 0.0849, 0.1505, 0.2630, 0.4008, 0.4763, 0.5892, 0.7295, 0.8152,\n",
      "         0.9000, 1.0000],\n",
      "        [0.0000, 0.1303, 0.1914, 0.3369, 0.4402, 0.4884, 0.6123, 0.6539, 0.8061,\n",
      "         0.9360, 1.0000],\n",
      "        [0.0000, 0.1032, 0.1731, 0.3321, 0.4212, 0.4534, 0.6303, 0.6734, 0.8015,\n",
      "         0.8920, 1.0000]])\n",
      "tensor([[0.0000, 0.1004, 0.1867, 0.2754, 0.3599, 0.5087, 0.6180, 0.7438, 0.8186,\n",
      "         0.8992, 1.0000],\n",
      "        [0.0000, 0.0849, 0.1505, 0.2630, 0.4008, 0.4763, 0.5892, 0.7295, 0.8152,\n",
      "         0.9000, 1.0000],\n",
      "        [0.0000, 0.1303, 0.1914, 0.3369, 0.4402, 0.4884, 0.6123, 0.6539, 0.8061,\n",
      "         0.9360, 1.0000],\n",
      "        [0.0000, 0.1032, 0.1731, 0.3321, 0.4212, 0.4534, 0.6303, 0.6734, 0.8015,\n",
      "         0.8920, 1.0000]])\n"
     ]
    }
   ],
   "source": [
    "import numpy as np\n",
    "import torch\n",
    "x=torch.rand([1,100],dtype=torch.float32)\n",
    "t=torch.linspace(0,1,11,dtype=torch.float32)\n",
    "t=t.repeat(4,1)\n",
    "dtype = torch.float32   \n",
    "rand_move=torch.empty((4,11),dtype=dtype).uniform_(-0.05,0.05)\n",
    "rand_move[:,0]=0\n",
    "rand_move[:,-1]=0\n",
    "t=t+rand_move\n",
    "\n",
    "sort_t=t.sort(dim=-1)[0]\n",
    "print(sort_t)\n",
    "print(t)\n",
    "\n"
   ]
  },
  {
   "cell_type": "code",
   "execution_count": 3,
   "metadata": {},
   "outputs": [
    {
     "name": "stdout",
     "output_type": "stream",
     "text": [
      "tensor([1.0000, 1.5000, 2.0000, 2.5000, 3.0000, 3.5000, 4.0000])\n",
      "torch.Size([7])\n"
     ]
    }
   ],
   "source": [
    "import torch\n",
    "\n",
    "def insert_points(x):\n",
    "    x = torch.tensor(x, dtype=torch.float32)\n",
    "    # 计算每两个点之间的中点\n",
    "    mid_points = (x[:-1] + x[1:]) / 2\n",
    "    # 将原始点和中点交替合并\n",
    "    result = torch.empty((x.size(0) + mid_points.size(0),), dtype=x.dtype)\n",
    "    result[0::2] = x\n",
    "    result[1::2] = mid_points\n",
    "    x=result\n",
    "    return x\n",
    "\n",
    "# 示例\n",
    "x = [1, 2, 3, 4]\n",
    "new_x = insert_points(x)\n",
    "print(new_x)\n",
    "print(new_x.shape)"
   ]
  },
  {
   "cell_type": "code",
   "execution_count": null,
   "metadata": {},
   "outputs": [],
   "source": []
  },
  {
   "cell_type": "code",
   "execution_count": 4,
   "metadata": {},
   "outputs": [
    {
     "name": "stdout",
     "output_type": "stream",
     "text": [
      "4.0\n"
     ]
    }
   ],
   "source": [
    "import numpy as np\n",
    "seg_step=16\n",
    "log_step=np.log2(seg_step)\n",
    "#log_step=int(log_step)\n",
    "\n",
    "print(log_step)\n"
   ]
  },
  {
   "cell_type": "code",
   "execution_count": 5,
   "metadata": {},
   "outputs": [
    {
     "data": {
      "text/plain": [
       "2.0"
      ]
     },
     "execution_count": 5,
     "metadata": {},
     "output_type": "execute_result"
    }
   ],
   "source": [
    "4.5//2"
   ]
  },
  {
   "cell_type": "code",
   "execution_count": 4,
   "metadata": {},
   "outputs": [
    {
     "name": "stdout",
     "output_type": "stream",
     "text": [
      "tensor([  1.,   4.,   9.,  16.,  25.,  36.,  49.,  64.,  81., 100.])\n",
      "showing float32 precision:\n",
      " example: for num 0.50000006\n",
      "in float32: 0.5000000596046448\n"
     ]
    }
   ],
   "source": [
    "import torch \n",
    "f=torch.tensor([1,2,3,4,5,6,7,8,9,10],dtype=torch.float32)\n",
    "k=torch.tensor([1,2,3,4,5,6,7,8,9,10],dtype=torch.float32)\n",
    "p=f**3/k\n",
    "print(p)\n",
    "k=torch.tensor([0.50000006],dtype=torch.float32)\n",
    "\n",
    "print('showing float32 precision:\\n','example: for num 0.50000006') \n",
    "print('in float32:',k.item())\n",
    "\n"
   ]
  },
  {
   "cell_type": "code",
   "execution_count": 7,
   "metadata": {},
   "outputs": [
    {
     "name": "stdout",
     "output_type": "stream",
     "text": [
      "tensor([ 1.,  2.,  3.,  4.,  5.,  6.,  7.,  8.,  9., 10.])\n"
     ]
    }
   ],
   "source": [
    "k=torch.tensor([1,2,3,4,5,6,7,8,9,10],dtype=torch.float32)\n",
    "s=k\n",
    "del k\n",
    "print(s)"
   ]
  },
  {
   "cell_type": "code",
   "execution_count": 8,
   "metadata": {},
   "outputs": [
    {
     "name": "stdout",
     "output_type": "stream",
     "text": [
      "[ 1.0184515   2.01751547  2.96465458  4.04186892  5.00287753  6.02943719\n",
      "  6.97912415  7.95339939  9.04786839 10.04804576]\n",
      "[0.44284439 0.73449773 0.57816676 0.12256346 0.01729761 0.761441\n",
      " 0.70595094 0.1053051  0.27286948 0.23242353]\n"
     ]
    }
   ],
   "source": [
    "import numpy as np\n",
    "nodes=[1,2,3,4,5,6,7,8,9,10]\n",
    "sigma=0.1\n",
    "sampled_points = np.array([np.random.rand()*0.1+node-0.05 for node in nodes])\n",
    "print(sampled_points)\n",
    "\n",
    "print(np.random.rand(10))"
   ]
  },
  {
   "cell_type": "code",
   "execution_count": 14,
   "metadata": {},
   "outputs": [
    {
     "name": "stdout",
     "output_type": "stream",
     "text": [
      "10\n",
      "[0. 0. 0. 0. 0. 0. 0. 0. 0. 0.]\n"
     ]
    }
   ],
   "source": [
    "sampled_points=np.array([1,2,3,4,5,6,7,8,9,10])\n",
    "print(sampled_points.size)\n",
    "temp_result=np.zeros((sampled_points.size))\n",
    "print(temp_result)"
   ]
  },
  {
   "cell_type": "code",
   "execution_count": 2,
   "metadata": {},
   "outputs": [],
   "source": [
    "with open('draft.txt', 'a+') as f:\n",
    "    f.write('Hello\\n')\n",
    "    f.write('World\\n')"
   ]
  },
  {
   "cell_type": "code",
   "execution_count": null,
   "metadata": {},
   "outputs": [],
   "source": []
  }
 ],
 "metadata": {
  "kernelspec": {
   "display_name": "pubpy",
   "language": "python",
   "name": "python3"
  },
  "language_info": {
   "codemirror_mode": {
    "name": "ipython",
    "version": 3
   },
   "file_extension": ".py",
   "mimetype": "text/x-python",
   "name": "python",
   "nbconvert_exporter": "python",
   "pygments_lexer": "ipython3",
   "version": "3.11.9"
  }
 },
 "nbformat": 4,
 "nbformat_minor": 2
}
