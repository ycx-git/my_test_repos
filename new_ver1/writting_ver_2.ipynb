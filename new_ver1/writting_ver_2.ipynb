{
 "cells": [
  {
   "cell_type": "code",
   "execution_count": 1,
   "metadata": {},
   "outputs": [],
   "source": [
    "import torch\n",
    "import torch.nn as nn\n",
    "import numpy as np\n",
    "import time\n",
    "from function import fun1,fun2,fun3,fun4,fun5,fun6,fun7\n",
    "from my_NN import Mynetwork\n",
    "import os\n",
    "import matplotlib.pyplot as plt\n",
    "import ycx_para_config as ycx\n",
    "\n",
    "# 确保 model 文件夹存在\n",
    "os.makedirs('./model_parameter', exist_ok=True)\n",
    "\n",
    "debug=False\n",
    "\n",
    "loss_list_final=[]"
   ]
  },
  {
   "cell_type": "code",
   "execution_count": 2,
   "metadata": {},
   "outputs": [],
   "source": [
    "def sample_t_per_interval_and_generate_f_start(dtype,device,seg_step=16,batch_size=32,f_start_min=0.1,f_start_max=0.9):\n",
    "    t_seg=torch.linspace(0,1,seg_step+1,dtype=dtype,device=device)\n",
    "    t_seg=t_seg.repeat(batch_size,1)\n",
    "    \n",
    "    rand_move=torch.empty((batch_size,seg_step+1),dtype=dtype,device=device).uniform_(-ycx.random_amplititude/seg_step,ycx.random_amplititude/seg_step)\n",
    "    rand_move[:,0]=0\n",
    "    rand_move[:,-1]=0\n",
    "    \n",
    "    t_seg+=rand_move\n",
    "    f_start_rand=torch.empty((batch_size,1),dtype=dtype,device=device).uniform_(f_start_min,f_start_max)\n",
    "    \n",
    "    return t_seg , f_start_rand\n"
   ]
  },
  {
   "cell_type": "code",
   "execution_count": 3,
   "metadata": {},
   "outputs": [],
   "source": [
    "def boundary_loss_calculator(model,t_seg,f_start_rand,seg_step,loss_func,batch_size,boundary_func=fun1,f_start_min=0.1,f_start_max=0.9):\n",
    "    #注意这里t_seg还是size为(batch_size,seg_step+1)的tensor\n",
    "    t_seg_copy=t_seg.clone()\n",
    "    t_seg_copy=t_seg_copy.unsqueeze_(-1)\n",
    "    temp_loss_list=[]\n",
    "    \n",
    "    log_step=int(np.log2(seg_step))\n",
    "    \n",
    "    delta=t_seg_copy[:,1:]-t_seg_copy[:,:-1]\n",
    "    func_f_end_value=boundary_func(f_start_rand)\n",
    "    \n",
    "    model_f_end_value=f_start_rand\n",
    "    for i in range(seg_step):\n",
    "        model_f_end_value=model_f_end_value + delta[:,i] * model.forward(model_f_end_value,t_seg_copy[:,i],delta[:,i])\n",
    "        \n",
    "    boundary_loss=loss_func(model_f_end_value,func_f_end_value)\n",
    "    temp_loss_list.append(boundary_loss.item())  \n",
    "\n",
    "    if debug:\n",
    "        print('\\nboundary_loss max step:',boundary_loss.item())  \n",
    "    #####\n",
    "    temp_step=seg_step\n",
    "    if debug:print('log_step:',log_step)\n",
    "    for i in range(log_step):\n",
    "        t_seg_copy=t_seg_copy[:,::2]\n",
    "        temp_step=temp_step//2\n",
    "        delta=t_seg_copy[:,1:]-t_seg_copy[:,:-1]\n",
    "        model_f_end_value=f_start_rand\n",
    "        for j in range(temp_step):\n",
    "            model_f_end_value=model_f_end_value + delta[:,j] * model.forward(model_f_end_value,t_seg_copy[:,j],delta[:,j])\n",
    "        if debug:print(f'step_boundary_loss steplen {2**(i+1)}:',loss_func(model_f_end_value,func_f_end_value).item())\n",
    "        \n",
    "        temp_loss_list.append(loss_func(model_f_end_value,func_f_end_value).item())\n",
    "        \n",
    "        boundary_loss+=loss_func(model_f_end_value,func_f_end_value)\n",
    "        \n",
    "    loss_list_final.append(temp_loss_list)\n",
    "    if debug:print('boundary_loss:',boundary_loss.item())\n",
    "    return boundary_loss\n",
    "    "
   ]
  },
  {
   "cell_type": "code",
   "execution_count": 4,
   "metadata": {},
   "outputs": [],
   "source": [
    "def get_loss(model,loss_func,batch_size,seg_step,dtype,device,boundary_func=fun1,f_start_min=0.1,f_start_max=0.6,consist_depth=5):\n",
    "    use_consist_loss=False\n",
    "    \n",
    "    t_seg,f_start_rand=sample_t_per_interval_and_generate_f_start(dtype=dtype,device=device,seg_step=seg_step,batch_size=batch_size,f_start_min=f_start_min,f_start_max=f_start_max)\n",
    "    \n",
    "    boundary_loss=boundary_loss_calculator(model,t_seg,f_start_rand,seg_step,loss_func,batch_size,boundary_func=boundary_func,f_start_min=f_start_min,f_start_max=f_start_max)\n",
    "    loss=boundary_loss\n",
    "    \n",
    "    return loss\n",
    "    "
   ]
  },
  {
   "cell_type": "code",
   "execution_count": 5,
   "metadata": {},
   "outputs": [],
   "source": [
    "def iteration(model,optimizer,loss_func,device,dtype,batch_size,consist_depth=5,boundary_func=fun1):\n",
    "    #train_loop\n",
    "    optimizer.zero_grad()\n",
    "    #计算loss\n",
    "    #这里可以调节seg_step，f_start_min,f_start_max\n",
    "    loss=get_loss(model,loss_func,batch_size,seg_step=ycx.choose_seg_step,dtype=dtype,device=device,boundary_func=boundary_func,consist_depth=consist_depth,f_start_min=ycx.f_start_min,f_start_max=ycx.f_start_max)\n",
    "    #反向传播\n",
    "    loss.backward()\n",
    "    #更新参数\n",
    "    optimizer.step()\n",
    "    return loss.item()"
   ]
  },
  {
   "cell_type": "code",
   "execution_count": 6,
   "metadata": {},
   "outputs": [],
   "source": [
    "def training(model,device='cuda',dtype=torch.float32,\n",
    "          epoch=100,batch_size=32,lr=0.01,consist_depth=5,\n",
    "          use_lr_scheduler=False,boundary_func=fun1):\n",
    "    loss_list = []\n",
    "    \n",
    "    loss_func = nn.MSELoss()\n",
    "    model.train()\n",
    "    optimizer = torch.optim.Adam(params=model.parameters(),\n",
    "                                 lr=lr,\n",
    "                                 **({\"fused\": True} if \"cuda\" in str(device) else {}))#这里的fused=True，是为了使用apex加速\n",
    "\n",
    "    # Use ReduceLROnPlateau as the learning rate scheduler\n",
    "    if use_lr_scheduler:\n",
    "        scheduler = torch.optim.lr_scheduler.ReduceLROnPlateau(optimizer,\n",
    "                                                               patience=ycx.lr_schedule_patience,\n",
    "                                                               threshold=1e-4,\n",
    "                                                               cooldown=ycx.lr_schedule_cooldown)\n",
    "    \n",
    "    init_time = time.time()\n",
    "    for i in range(epoch):\n",
    "        loss_term=iteration(model,optimizer,loss_func,device,dtype,batch_size,consist_depth=consist_depth,boundary_func=boundary_func)\n",
    "        #设计中，iteration中已经完成反向传播，所以这里不需要再进行反向传播\n",
    "        loss_list.append(loss_term)\n",
    "        if (i+1)%20==0:\n",
    "            print(f'epoch:{i+1},loss:{loss_term},time:{time.time()-init_time},lr:{optimizer.param_groups[0][\"lr\"]}')\n",
    "        if (i+1)%50==0:\n",
    "            torch.save(model.state_dict(),ycx.only_boundary_para_file_name)\n",
    "        if use_lr_scheduler:\n",
    "            scheduler.step(loss_term)\n",
    "        if optimizer.param_groups[0][\"lr\"] <= 1.1e-8:\n",
    "            break\n",
    "    print('terminal epoch: ',i+1)\n",
    "    \n",
    "    if debug==False:\n",
    "        plt.plot(loss_list,label='loss')\n",
    "        plt.legend()\n",
    "    pass"
   ]
  },
  {
   "cell_type": "code",
   "execution_count": 7,
   "metadata": {},
   "outputs": [
    {
     "name": "stdout",
     "output_type": "stream",
     "text": [
      "now using cuda !\n",
      "epoch:20,loss:0.6202360391616821,time:0.7297327518463135,lr:0.01\n",
      "epoch:40,loss:0.12193520367145538,time:1.2687921524047852,lr:0.01\n",
      "epoch:60,loss:0.03237343579530716,time:1.8016026020050049,lr:0.01\n",
      "epoch:80,loss:0.02265824005007744,time:2.333615779876709,lr:0.01\n",
      "epoch:100,loss:0.015907341614365578,time:2.86181902885437,lr:0.01\n",
      "epoch:120,loss:0.008338496088981628,time:3.4013712406158447,lr:0.01\n",
      "epoch:140,loss:0.001936524175107479,time:3.9350709915161133,lr:0.01\n",
      "epoch:160,loss:0.0008022819529287517,time:4.478595018386841,lr:0.01\n",
      "epoch:180,loss:0.0005878003430552781,time:5.020618915557861,lr:0.01\n",
      "epoch:200,loss:0.0003966934746131301,time:5.560983180999756,lr:0.01\n",
      "epoch:220,loss:0.00035645527532324195,time:6.09837532043457,lr:0.01\n",
      "epoch:240,loss:0.00030865141889080405,time:6.626229763031006,lr:0.01\n",
      "epoch:260,loss:0.0002621716121211648,time:7.163110256195068,lr:0.01\n",
      "epoch:280,loss:0.0002325475652469322,time:7.705465078353882,lr:0.01\n",
      "epoch:300,loss:0.00019025965593755245,time:8.24197793006897,lr:0.01\n",
      "epoch:320,loss:0.00017518040840514004,time:8.773447751998901,lr:0.01\n",
      "epoch:340,loss:0.00015182781498879194,time:9.314060688018799,lr:0.01\n",
      "epoch:360,loss:0.00015282690583262593,time:9.848560333251953,lr:0.01\n",
      "epoch:380,loss:0.00015167403034865856,time:10.36966061592102,lr:0.01\n",
      "epoch:400,loss:0.00013330548244994134,time:10.91310453414917,lr:0.01\n",
      "epoch:420,loss:0.00012745226558763534,time:11.453741550445557,lr:0.01\n",
      "epoch:440,loss:0.00012908797361887991,time:11.997244596481323,lr:0.001\n",
      "epoch:460,loss:0.00011859634832944721,time:12.536567449569702,lr:0.001\n",
      "epoch:480,loss:0.0001191585324704647,time:13.084287643432617,lr:0.001\n",
      "epoch:500,loss:0.0001166486254078336,time:13.622940301895142,lr:0.001\n",
      "epoch:520,loss:0.00011349186388542876,time:14.161561250686646,lr:0.001\n",
      "epoch:540,loss:0.00012138588499510661,time:14.68109679222107,lr:0.0001\n",
      "epoch:560,loss:0.00011796646867878735,time:15.232107162475586,lr:0.0001\n",
      "epoch:580,loss:0.0001221301208715886,time:15.770200967788696,lr:0.0001\n",
      "epoch:600,loss:0.00011392220039851964,time:16.314889669418335,lr:0.0001\n",
      "epoch:620,loss:0.00011301941412966698,time:16.848467350006104,lr:1e-05\n",
      "epoch:640,loss:0.00012318200606387109,time:17.39856219291687,lr:1e-05\n",
      "epoch:660,loss:0.00011095686932094395,time:17.934327602386475,lr:1e-05\n",
      "epoch:680,loss:0.00013873614079784602,time:18.465206623077393,lr:1.0000000000000002e-06\n",
      "epoch:700,loss:0.00012070533557562158,time:19.001423597335815,lr:1.0000000000000002e-06\n",
      "epoch:720,loss:0.00011922389967367053,time:19.537369966506958,lr:1.0000000000000002e-06\n",
      "epoch:740,loss:0.00012620669440366328,time:20.070289850234985,lr:1.0000000000000002e-07\n",
      "epoch:760,loss:0.0001197156889247708,time:20.60028886795044,lr:1.0000000000000002e-07\n",
      "epoch:780,loss:0.00011898766388185322,time:21.131096124649048,lr:1.0000000000000002e-07\n",
      "terminal epoch:  794\n",
      "program ended here \n",
      " terminal time:  22.666229009628296\n",
      "save model parameter in file name :  batch256_epoch10000.pth\n"
     ]
    },
    {
     "data": {
      "image/png": "[encoded data removed]",
      "text/plain": [
       "<Figure size 640x480 with 1 Axes>"
      ]
     },
     "metadata": {},
     "output_type": "display_data"
    }
   ],
   "source": [
    "if __name__=='__main__':\n",
    "    initial_time=time.time()\n",
    "    if torch.cuda.is_available():\n",
    "        device='cuda'\n",
    "        print('now using cuda !')\n",
    "    else:\n",
    "        device='cpu'\n",
    "        print('now using cpu !')\n",
    "    dtype=torch.float32\n",
    "    model=Mynetwork().to(device=device,dtype=dtype)\n",
    "    #初始化网络参数\n",
    "    from torch.nn import init\n",
    "    for name, param in model.named_parameters():\n",
    "        if 'weight' in name:\n",
    "            init.normal_(param, mean=0, std=0.1)\n",
    "        elif 'bias' in name:\n",
    "            init.constant_(param, val=0)\n",
    "            \n",
    "    ############################################################\n",
    "    #设置超参数\n",
    "    batch_size=ycx.batch\n",
    "    epoch=ycx.epoch\n",
    "    if debug:epoch=ycx.debug_epoch\n",
    "    consist_depth=5\n",
    "    #training part \n",
    "    training(model,device,dtype,epoch=epoch,lr=ycx.lr,batch_size=batch_size,consist_depth=consist_depth,use_lr_scheduler=ycx.use_lr_schedule,boundary_func=ycx.choose_fun)\n",
    "    \n",
    "    print('program ended here \\n terminal time: ', time.time()-initial_time)\n",
    "    print('save model parameter in file name :',f' batch{batch_size}_epoch{epoch}.pth')"
   ]
  },
  {
   "cell_type": "code",
   "execution_count": 8,
   "metadata": {},
   "outputs": [
    {
     "data": {
      "image/png": "[encoded data removed]",
      "text/plain": [
       "<Figure size 640x480 with 1 Axes>"
      ]
     },
     "metadata": {},
     "output_type": "display_data"
    }
   ],
   "source": [
    "list_length=len(loss_list_final)\n",
    "x=np.array([i for i in range(list_length)])\n",
    "loss_list_final=np.array(loss_list_final)\n",
    "\n",
    "end=5000\n",
    "begin=0\n",
    "begin=max(0,begin)\n",
    "end=min(end,list_length)\n",
    "for i in range(loss_list_final.shape[1]): \n",
    "    plt.plot(x[begin:end],loss_list_final[begin:end,i],label=f'step_length {2**i}')\n",
    "plt.ylim(0,0.5)\n",
    "plt.legend()\n",
    "plt.show()"
   ]
  },
  {
   "cell_type": "code",
   "execution_count": 9,
   "metadata": {},
   "outputs": [],
   "source": [
    "#fun3 loss example"
   ]
  }
 ],
 "metadata": {
  "kernelspec": {
   "display_name": "pubpy",
   "language": "python",
   "name": "python3"
  },
  "language_info": {
   "codemirror_mode": {
    "name": "ipython",
    "version": 3
   },
   "file_extension": ".py",
   "mimetype": "text/x-python",
   "name": "python",
   "nbconvert_exporter": "python",
   "pygments_lexer": "ipython3",
   "version": "3.11.9"
  }
 },
 "nbformat": 4,
 "nbformat_minor": 2
}
