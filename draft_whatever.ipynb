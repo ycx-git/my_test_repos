{
 "cells": [
  {
   "cell_type": "code",
   "execution_count": 1,
   "metadata": {},
   "outputs": [
    {
     "name": "stdout",
     "output_type": "stream",
     "text": [
      "tensor([[0.0000, 0.0741, 0.1935, 0.2655, 0.3734, 0.4847, 0.6219, 0.6932, 0.8402,\n",
      "         0.9096, 1.0000],\n",
      "        [0.0000, 0.1017, 0.1878, 0.2769, 0.4252, 0.4978, 0.5909, 0.7338, 0.8067,\n",
      "         0.8837, 1.0000],\n",
      "        [0.0000, 0.1014, 0.2222, 0.3091, 0.3985, 0.5262, 0.5783, 0.6748, 0.7740,\n",
      "         0.8637, 1.0000],\n",
      "        [0.0000, 0.0759, 0.1652, 0.3003, 0.3541, 0.4729, 0.6257, 0.7127, 0.8289,\n",
      "         0.9342, 1.0000]])\n",
      "tensor([[0.0000, 0.0741, 0.1935, 0.2655, 0.3734, 0.4847, 0.6219, 0.6932, 0.8402,\n",
      "         0.9096, 1.0000],\n",
      "        [0.0000, 0.1017, 0.1878, 0.2769, 0.4252, 0.4978, 0.5909, 0.7338, 0.8067,\n",
      "         0.8837, 1.0000],\n",
      "        [0.0000, 0.1014, 0.2222, 0.3091, 0.3985, 0.5262, 0.5783, 0.6748, 0.7740,\n",
      "         0.8637, 1.0000],\n",
      "        [0.0000, 0.0759, 0.1652, 0.3003, 0.3541, 0.4729, 0.6257, 0.7127, 0.8289,\n",
      "         0.9342, 1.0000]])\n"
     ]
    }
   ],
   "source": [
    "import numpy as np\n",
    "import torch\n",
    "x=torch.rand([1,100],dtype=torch.float32)\n",
    "t=torch.linspace(0,1,11,dtype=torch.float32)\n",
    "t=t.repeat(4,1)\n",
    "dtype = torch.float32   \n",
    "rand_move=torch.empty((4,11),dtype=dtype).uniform_(-0.05,0.05)\n",
    "rand_move[:,0]=0\n",
    "rand_move[:,-1]=0\n",
    "t=t+rand_move\n",
    "\n",
    "sort_t=t.sort(dim=-1)[0]\n",
    "print(sort_t)\n",
    "print(t)\n",
    "\n"
   ]
  },
  {
   "cell_type": "code",
   "execution_count": 32,
   "metadata": {},
   "outputs": [
    {
     "name": "stdout",
     "output_type": "stream",
     "text": [
      "tensor([1.0000, 1.5000, 2.0000, 2.5000, 3.0000, 3.5000, 4.0000])\n",
      "torch.Size([7])\n"
     ]
    }
   ],
   "source": [
    "import torch\n",
    "\n",
    "def insert_points(x):\n",
    "    x = torch.tensor(x, dtype=torch.float32)\n",
    "    # 计算每两个点之间的中点\n",
    "    mid_points = (x[:-1] + x[1:]) / 2\n",
    "    # 将原始点和中点交替合并\n",
    "    result = torch.empty((x.size(0) + mid_points.size(0),), dtype=x.dtype)\n",
    "    result[0::2] = x\n",
    "    result[1::2] = mid_points\n",
    "    x=result\n",
    "    return x\n",
    "\n",
    "# 示例\n",
    "x = [1, 2, 3, 4]\n",
    "new_x = insert_points(x)\n",
    "print(new_x)\n",
    "print(new_x.shape)"
   ]
  },
  {
   "cell_type": "code",
   "execution_count": null,
   "metadata": {},
   "outputs": [
    {
     "ename": "AttributeError",
     "evalue": "'NoneType' object has no attribute 'dtype'",
     "output_type": "error",
     "traceback": [
      "\u001b[0;31m---------------------------------------------------------------------------\u001b[0m",
      "\u001b[0;31mAttributeError\u001b[0m                            Traceback (most recent call last)",
      "Cell \u001b[0;32mIn[29], line 3\u001b[0m\n\u001b[1;32m      1\u001b[0m \u001b[38;5;28;01mimport\u001b[39;00m \u001b[38;5;21;01mtorch\u001b[39;00m\n\u001b[1;32m      2\u001b[0m con\u001b[38;5;241m=\u001b[39m\u001b[38;5;28;01mNone\u001b[39;00m\n\u001b[0;32m----> 3\u001b[0m \u001b[38;5;28mprint\u001b[39m(\u001b[43mcon\u001b[49m\u001b[38;5;241;43m.\u001b[39;49m\u001b[43mdtype\u001b[49m)\n",
      "\u001b[0;31mAttributeError\u001b[0m: 'NoneType' object has no attribute 'dtype'"
     ]
    }
   ],
   "source": []
  },
  {
   "cell_type": "code",
   "execution_count": 14,
   "metadata": {},
   "outputs": [
    {
     "name": "stdout",
     "output_type": "stream",
     "text": [
      "4.0\n"
     ]
    }
   ],
   "source": [
    "import numpy as np\n",
    "seg_step=16\n",
    "log_step=np.log2(seg_step)\n",
    "#log_step=int(log_step)\n",
    "\n",
    "print(log_step)\n"
   ]
  },
  {
   "cell_type": "code",
   "execution_count": 17,
   "metadata": {},
   "outputs": [
    {
     "data": {
      "text/plain": [
       "2.0"
      ]
     },
     "execution_count": 17,
     "metadata": {},
     "output_type": "execute_result"
    }
   ],
   "source": [
    "4.5//2"
   ]
  },
  {
   "cell_type": "code",
   "execution_count": null,
   "metadata": {},
   "outputs": [],
   "source": []
  }
 ],
 "metadata": {
  "kernelspec": {
   "display_name": "pubpy",
   "language": "python",
   "name": "python3"
  },
  "language_info": {
   "codemirror_mode": {
    "name": "ipython",
    "version": 3
   },
   "file_extension": ".py",
   "mimetype": "text/x-python",
   "name": "python",
   "nbconvert_exporter": "python",
   "pygments_lexer": "ipython3",
   "version": "3.11.9"
  }
 },
 "nbformat": 4,
 "nbformat_minor": 2
}
