{
 "cells": [
  {
   "cell_type": "code",
   "execution_count": 22,
   "metadata": {},
   "outputs": [
    {
     "name": "stdout",
     "output_type": "stream",
     "text": [
      "tensor([[0.0000, 0.1300, 0.1792, 0.3469, 0.3984, 0.5090, 0.5838, 0.7180, 0.8414,\n",
      "         0.9028, 1.0000],\n",
      "        [0.0000, 0.0716, 0.2190, 0.3254, 0.4198, 0.4583, 0.6217, 0.6850, 0.7815,\n",
      "         0.8932, 1.0000],\n",
      "        [0.0000, 0.0986, 0.1899, 0.3465, 0.4056, 0.5473, 0.6071, 0.7126, 0.7700,\n",
      "         0.9351, 1.0000],\n",
      "        [0.0000, 0.1368, 0.2253, 0.2905, 0.4465, 0.4668, 0.6440, 0.7323, 0.8314,\n",
      "         0.8728, 1.0000]])\n",
      "tensor([[0.0000, 0.1300, 0.1792, 0.3469, 0.3984, 0.5090, 0.5838, 0.7180, 0.8414,\n",
      "         0.9028, 1.0000],\n",
      "        [0.0000, 0.0716, 0.2190, 0.3254, 0.4198, 0.4583, 0.6217, 0.6850, 0.7815,\n",
      "         0.8932, 1.0000],\n",
      "        [0.0000, 0.0986, 0.1899, 0.3465, 0.4056, 0.5473, 0.6071, 0.7126, 0.7700,\n",
      "         0.9351, 1.0000],\n",
      "        [0.0000, 0.1368, 0.2253, 0.2905, 0.4465, 0.4668, 0.6440, 0.7323, 0.8314,\n",
      "         0.8728, 1.0000]])\n",
      "tensor([[True, True, True, True, True, True, True, True, True, True, True],\n",
      "        [True, True, True, True, True, True, True, True, True, True, True],\n",
      "        [True, True, True, True, True, True, True, True, True, True, True],\n",
      "        [True, True, True, True, True, True, True, True, True, True, True]])\n"
     ]
    }
   ],
   "source": [
    "import numpy as np\n",
    "import torch\n",
    "x=torch.rand([1,100],dtype=torch.float32)\n",
    "t=torch.linspace(0,1,11,dtype=torch.float32)\n",
    "t=t.repeat(4,1)\n",
    "dtype = torch.float32   \n",
    "rand_move=torch.empty((4,11),dtype=dtype).uniform_(-0.05,0.05)\n",
    "rand_move[:,0]=0\n",
    "rand_move[:,-1]=0\n",
    "t=t+rand_move\n",
    "\n",
    "sort_t=t.sort(dim=-1)[0]\n",
    "print(sort_t)\n",
    "print(t)\n",
    "print(sort_t==t)\n"
   ]
  },
  {
   "cell_type": "code",
   "execution_count": 32,
   "metadata": {},
   "outputs": [
    {
     "name": "stdout",
     "output_type": "stream",
     "text": [
      "tensor([1.0000, 1.5000, 2.0000, 2.5000, 3.0000, 3.5000, 4.0000])\n",
      "torch.Size([7])\n"
     ]
    }
   ],
   "source": [
    "import torch\n",
    "\n",
    "def insert_points(x):\n",
    "    x = torch.tensor(x, dtype=torch.float32)\n",
    "    # 计算每两个点之间的中点\n",
    "    mid_points = (x[:-1] + x[1:]) / 2\n",
    "    # 将原始点和中点交替合并\n",
    "    result = torch.empty((x.size(0) + mid_points.size(0),), dtype=x.dtype)\n",
    "    result[0::2] = x\n",
    "    result[1::2] = mid_points\n",
    "    x=result\n",
    "    return x\n",
    "\n",
    "# 示例\n",
    "x = [1, 2, 3, 4]\n",
    "new_x = insert_points(x)\n",
    "print(new_x)\n",
    "print(new_x.shape)"
   ]
  },
  {
   "cell_type": "code",
   "execution_count": null,
   "metadata": {},
   "outputs": [
    {
     "ename": "AttributeError",
     "evalue": "'NoneType' object has no attribute 'dtype'",
     "output_type": "error",
     "traceback": [
      "\u001b[0;31m---------------------------------------------------------------------------\u001b[0m",
      "\u001b[0;31mAttributeError\u001b[0m                            Traceback (most recent call last)",
      "Cell \u001b[0;32mIn[29], line 3\u001b[0m\n\u001b[1;32m      1\u001b[0m \u001b[38;5;28;01mimport\u001b[39;00m \u001b[38;5;21;01mtorch\u001b[39;00m\n\u001b[1;32m      2\u001b[0m con\u001b[38;5;241m=\u001b[39m\u001b[38;5;28;01mNone\u001b[39;00m\n\u001b[0;32m----> 3\u001b[0m \u001b[38;5;28mprint\u001b[39m(\u001b[43mcon\u001b[49m\u001b[38;5;241;43m.\u001b[39;49m\u001b[43mdtype\u001b[49m)\n",
      "\u001b[0;31mAttributeError\u001b[0m: 'NoneType' object has no attribute 'dtype'"
     ]
    }
   ],
   "source": []
  },
  {
   "cell_type": "code",
   "execution_count": null,
   "metadata": {},
   "outputs": [],
   "source": []
  }
 ],
 "metadata": {
  "kernelspec": {
   "display_name": "pubpy",
   "language": "python",
   "name": "python3"
  },
  "language_info": {
   "codemirror_mode": {
    "name": "ipython",
    "version": 3
   },
   "file_extension": ".py",
   "mimetype": "text/x-python",
   "name": "python",
   "nbconvert_exporter": "python",
   "pygments_lexer": "ipython3",
   "version": "3.11.9"
  }
 },
 "nbformat": 4,
 "nbformat_minor": 2
}
